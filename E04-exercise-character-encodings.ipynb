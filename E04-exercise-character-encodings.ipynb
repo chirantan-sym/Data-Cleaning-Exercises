{
 "cells": [
  {
   "cell_type": "markdown",
   "id": "132d6813",
   "metadata": {
    "papermill": {
     "duration": 0.004766,
     "end_time": "2023-07-03T11:23:55.429652",
     "exception": false,
     "start_time": "2023-07-03T11:23:55.424886",
     "status": "completed"
    },
    "tags": []
   },
   "source": [
    "**This notebook is an exercise in the [Data Cleaning](https://www.kaggle.com/learn/data-cleaning) course.  You can reference the tutorial at [this link](https://www.kaggle.com/alexisbcook/character-encodings).**\n",
    "\n",
    "---\n"
   ]
  },
  {
   "cell_type": "markdown",
   "id": "5aa007f2",
   "metadata": {
    "papermill": {
     "duration": 0.003844,
     "end_time": "2023-07-03T11:23:55.437941",
     "exception": false,
     "start_time": "2023-07-03T11:23:55.434097",
     "status": "completed"
    },
    "tags": []
   },
   "source": [
    "In this exercise, you'll apply what you learned in the **Character encodings** tutorial.\n",
    "\n",
    "# Setup\n",
    "\n",
    "The questions below will give you feedback on your work. Run the following cell to set up the feedback system."
   ]
  },
  {
   "cell_type": "code",
   "execution_count": 1,
   "id": "a157f616",
   "metadata": {
    "execution": {
     "iopub.execute_input": "2023-07-03T11:23:55.448655Z",
     "iopub.status.busy": "2023-07-03T11:23:55.447794Z",
     "iopub.status.idle": "2023-07-03T11:23:55.531797Z",
     "shell.execute_reply": "2023-07-03T11:23:55.530779Z"
    },
    "papermill": {
     "duration": 0.092563,
     "end_time": "2023-07-03T11:23:55.534595",
     "exception": false,
     "start_time": "2023-07-03T11:23:55.442032",
     "status": "completed"
    },
    "tags": []
   },
   "outputs": [
    {
     "name": "stdout",
     "output_type": "stream",
     "text": [
      "Setup Complete\n"
     ]
    }
   ],
   "source": [
    "from learntools.core import binder\n",
    "binder.bind(globals())\n",
    "from learntools.data_cleaning.ex4 import *\n",
    "print(\"Setup Complete\")"
   ]
  },
  {
   "cell_type": "markdown",
   "id": "170a7b22",
   "metadata": {
    "papermill": {
     "duration": 0.003983,
     "end_time": "2023-07-03T11:23:55.543222",
     "exception": false,
     "start_time": "2023-07-03T11:23:55.539239",
     "status": "completed"
    },
    "tags": []
   },
   "source": [
    "# Get our environment set up\n",
    "\n",
    "The first thing we'll need to do is load in the libraries we'll be using."
   ]
  },
  {
   "cell_type": "code",
   "execution_count": 2,
   "id": "713ec632",
   "metadata": {
    "execution": {
     "iopub.execute_input": "2023-07-03T11:23:55.553752Z",
     "iopub.status.busy": "2023-07-03T11:23:55.552796Z",
     "iopub.status.idle": "2023-07-03T11:23:55.559057Z",
     "shell.execute_reply": "2023-07-03T11:23:55.558301Z"
    },
    "papermill": {
     "duration": 0.013426,
     "end_time": "2023-07-03T11:23:55.560924",
     "exception": false,
     "start_time": "2023-07-03T11:23:55.547498",
     "status": "completed"
    },
    "tags": []
   },
   "outputs": [],
   "source": [
    "# modules we'll use\n",
    "import pandas as pd\n",
    "import numpy as np\n",
    "\n",
    "# helpful character encoding module\n",
    "import charset_normalizer\n",
    "\n",
    "# set seed for reproducibility\n",
    "np.random.seed(0)"
   ]
  },
  {
   "cell_type": "markdown",
   "id": "b1cee2dd",
   "metadata": {
    "papermill": {
     "duration": 0.004048,
     "end_time": "2023-07-03T11:23:55.569298",
     "exception": false,
     "start_time": "2023-07-03T11:23:55.565250",
     "status": "completed"
    },
    "tags": []
   },
   "source": [
    "# 1) What are encodings?\n",
    "\n",
    "You're working with a dataset composed of bytes.  Run the code cell below to print a sample entry."
   ]
  },
  {
   "cell_type": "code",
   "execution_count": 3,
   "id": "c739e076",
   "metadata": {
    "execution": {
     "iopub.execute_input": "2023-07-03T11:23:55.581377Z",
     "iopub.status.busy": "2023-07-03T11:23:55.580673Z",
     "iopub.status.idle": "2023-07-03T11:23:55.585808Z",
     "shell.execute_reply": "2023-07-03T11:23:55.584704Z"
    },
    "papermill": {
     "duration": 0.012679,
     "end_time": "2023-07-03T11:23:55.587739",
     "exception": false,
     "start_time": "2023-07-03T11:23:55.575060",
     "status": "completed"
    },
    "tags": []
   },
   "outputs": [
    {
     "name": "stdout",
     "output_type": "stream",
     "text": [
      "b'\\xa7A\\xa6n'\n",
      "data type: <class 'bytes'>\n"
     ]
    }
   ],
   "source": [
    "sample_entry = b'\\xa7A\\xa6n'\n",
    "print(sample_entry)\n",
    "print('data type:', type(sample_entry))"
   ]
  },
  {
   "cell_type": "markdown",
   "id": "55a08de6",
   "metadata": {
    "papermill": {
     "duration": 0.004039,
     "end_time": "2023-07-03T11:23:55.596086",
     "exception": false,
     "start_time": "2023-07-03T11:23:55.592047",
     "status": "completed"
    },
    "tags": []
   },
   "source": [
    "You notice that it doesn't use the standard UTF-8 encoding. \n",
    "\n",
    "Use the next code cell to create a variable `new_entry` that changes the encoding from `\"big5-tw\"` to `\"utf-8\"`.  `new_entry` should have the bytes datatype."
   ]
  },
  {
   "cell_type": "code",
   "execution_count": 4,
   "id": "15782fc5",
   "metadata": {
    "execution": {
     "iopub.execute_input": "2023-07-03T11:23:55.606881Z",
     "iopub.status.busy": "2023-07-03T11:23:55.605819Z",
     "iopub.status.idle": "2023-07-03T11:23:55.615691Z",
     "shell.execute_reply": "2023-07-03T11:23:55.614889Z"
    },
    "papermill": {
     "duration": 0.017337,
     "end_time": "2023-07-03T11:23:55.617716",
     "exception": false,
     "start_time": "2023-07-03T11:23:55.600379",
     "status": "completed"
    },
    "tags": []
   },
   "outputs": [
    {
     "data": {
      "application/javascript": [
       "parent.postMessage({\"jupyterEvent\": \"custom.exercise_interaction\", \"data\": {\"outcomeType\": 1, \"valueTowardsCompletion\": 0.3333333333333333, \"interactionType\": 1, \"questionType\": 1, \"questionId\": \"1_EncodingsIntro\", \"learnToolsVersion\": \"0.3.4\", \"failureMessage\": \"\", \"exceptionClass\": \"\", \"trace\": \"\"}}, \"*\")"
      ],
      "text/plain": [
       "<IPython.core.display.Javascript object>"
      ]
     },
     "metadata": {},
     "output_type": "display_data"
    },
    {
     "data": {
      "text/markdown": [
       "<span style=\"color:#33cc33\">Correct</span>"
      ],
      "text/plain": [
       "Correct"
      ]
     },
     "metadata": {},
     "output_type": "display_data"
    }
   ],
   "source": [
    "new_entry = sample_entry.decode(\"big5-tw\")\n",
    "new_entry = new_entry.encode(\"utf-8\", errors=\"replace\")\n",
    "\n",
    "# Check your answer\n",
    "q1.check()"
   ]
  },
  {
   "cell_type": "code",
   "execution_count": 5,
   "id": "2ce60993",
   "metadata": {
    "execution": {
     "iopub.execute_input": "2023-07-03T11:23:55.629144Z",
     "iopub.status.busy": "2023-07-03T11:23:55.628138Z",
     "iopub.status.idle": "2023-07-03T11:23:55.632648Z",
     "shell.execute_reply": "2023-07-03T11:23:55.631911Z"
    },
    "papermill": {
     "duration": 0.012108,
     "end_time": "2023-07-03T11:23:55.634607",
     "exception": false,
     "start_time": "2023-07-03T11:23:55.622499",
     "status": "completed"
    },
    "tags": []
   },
   "outputs": [],
   "source": [
    "# Lines below will give you a hint or solution code\n",
    "#q1.hint()\n",
    "#q1.solution()"
   ]
  },
  {
   "cell_type": "markdown",
   "id": "db49240d",
   "metadata": {
    "papermill": {
     "duration": 0.004284,
     "end_time": "2023-07-03T11:23:55.643577",
     "exception": false,
     "start_time": "2023-07-03T11:23:55.639293",
     "status": "completed"
    },
    "tags": []
   },
   "source": [
    "# 2) Reading in files with encoding problems\n",
    "\n",
    "Use the code cell below to read in this file at path `\"../input/fatal-police-shootings-in-the-us/PoliceKillingsUS.csv\"`.  \n",
    "\n",
    "Figure out what the correct encoding should be and read in the file to a DataFrame `police_killings`."
   ]
  },
  {
   "cell_type": "code",
   "execution_count": 6,
   "id": "c029cef0",
   "metadata": {
    "execution": {
     "iopub.execute_input": "2023-07-03T11:23:55.655155Z",
     "iopub.status.busy": "2023-07-03T11:23:55.654538Z",
     "iopub.status.idle": "2023-07-03T11:23:55.689827Z",
     "shell.execute_reply": "2023-07-03T11:23:55.688687Z"
    },
    "papermill": {
     "duration": 0.043752,
     "end_time": "2023-07-03T11:23:55.692196",
     "exception": false,
     "start_time": "2023-07-03T11:23:55.648444",
     "status": "completed"
    },
    "tags": []
   },
   "outputs": [
    {
     "data": {
      "application/javascript": [
       "parent.postMessage({\"jupyterEvent\": \"custom.exercise_interaction\", \"data\": {\"outcomeType\": 1, \"valueTowardsCompletion\": 0.3333333333333333, \"interactionType\": 1, \"questionType\": 1, \"questionId\": \"2_ReadIn\", \"learnToolsVersion\": \"0.3.4\", \"failureMessage\": \"\", \"exceptionClass\": \"\", \"trace\": \"\"}}, \"*\")"
      ],
      "text/plain": [
       "<IPython.core.display.Javascript object>"
      ]
     },
     "metadata": {},
     "output_type": "display_data"
    },
    {
     "data": {
      "text/markdown": [
       "<span style=\"color:#33cc33\">Correct</span>"
      ],
      "text/plain": [
       "Correct"
      ]
     },
     "metadata": {},
     "output_type": "display_data"
    }
   ],
   "source": [
    "# TODO: Load in the DataFrame correctly.\n",
    "police_killings = pd.read_csv(\"../input/fatal-police-shootings-in-the-us/PoliceKillingsUS.csv\", encoding='windows-1250')\n",
    "\n",
    "# Check your answer\n",
    "q2.check()"
   ]
  },
  {
   "cell_type": "markdown",
   "id": "1adb16a7",
   "metadata": {
    "papermill": {
     "duration": 0.006822,
     "end_time": "2023-07-03T11:23:55.706834",
     "exception": false,
     "start_time": "2023-07-03T11:23:55.700012",
     "status": "completed"
    },
    "tags": []
   },
   "source": [
    "Feel free to use any additional code cells for supplemental work.  To get credit for finishing this question, you'll need to run `q2.check()` and get a result of **Correct**."
   ]
  },
  {
   "cell_type": "code",
   "execution_count": 7,
   "id": "0a83c9f2",
   "metadata": {
    "execution": {
     "iopub.execute_input": "2023-07-03T11:23:55.721601Z",
     "iopub.status.busy": "2023-07-03T11:23:55.720620Z",
     "iopub.status.idle": "2023-07-03T11:23:56.204019Z",
     "shell.execute_reply": "2023-07-03T11:23:56.202960Z"
    },
    "papermill": {
     "duration": 0.493557,
     "end_time": "2023-07-03T11:23:56.206034",
     "exception": false,
     "start_time": "2023-07-03T11:23:55.712477",
     "status": "completed"
    },
    "tags": []
   },
   "outputs": [
    {
     "name": "stdout",
     "output_type": "stream",
     "text": [
      "{'encoding': 'windows-1250', 'language': 'English', 'confidence': 1.0}\n"
     ]
    }
   ],
   "source": [
    "# (Optional) Use this code cell for any additional work.\n",
    "with open(\"../input/fatal-police-shootings-in-the-us/PoliceKillingsUS.csv\", 'rb') as rawdata:\n",
    "    result = charset_normalizer.detect(rawdata.read(100000))\n",
    "print(result)"
   ]
  },
  {
   "cell_type": "code",
   "execution_count": 8,
   "id": "64fdfda5",
   "metadata": {
    "execution": {
     "iopub.execute_input": "2023-07-03T11:23:56.218747Z",
     "iopub.status.busy": "2023-07-03T11:23:56.217732Z",
     "iopub.status.idle": "2023-07-03T11:23:56.222470Z",
     "shell.execute_reply": "2023-07-03T11:23:56.221589Z"
    },
    "papermill": {
     "duration": 0.013479,
     "end_time": "2023-07-03T11:23:56.224576",
     "exception": false,
     "start_time": "2023-07-03T11:23:56.211097",
     "status": "completed"
    },
    "tags": []
   },
   "outputs": [],
   "source": [
    "# Lines below will give you a hint or solution code\n",
    "#q2.hint()\n",
    "#q2.solution()"
   ]
  },
  {
   "cell_type": "markdown",
   "id": "5c839e3c",
   "metadata": {
    "papermill": {
     "duration": 0.004704,
     "end_time": "2023-07-03T11:23:56.234346",
     "exception": false,
     "start_time": "2023-07-03T11:23:56.229642",
     "status": "completed"
    },
    "tags": []
   },
   "source": [
    "# 3) Saving your files with UTF-8 encoding\n",
    "\n",
    "Save a version of the police killings dataset to CSV with UTF-8 encoding.  Your answer will be marked correct after saving this file.  \n",
    "\n",
    "Note: When using the `to_csv()` method, supply only the name of the file (e.g., `\"my_file.csv\"`).  This saves the file at the filepath `\"/kaggle/working/my_file.csv\"`."
   ]
  },
  {
   "cell_type": "code",
   "execution_count": 9,
   "id": "5b481a24",
   "metadata": {
    "execution": {
     "iopub.execute_input": "2023-07-03T11:23:56.246418Z",
     "iopub.status.busy": "2023-07-03T11:23:56.245282Z",
     "iopub.status.idle": "2023-07-03T11:23:56.288084Z",
     "shell.execute_reply": "2023-07-03T11:23:56.287052Z"
    },
    "papermill": {
     "duration": 0.050985,
     "end_time": "2023-07-03T11:23:56.290289",
     "exception": false,
     "start_time": "2023-07-03T11:23:56.239304",
     "status": "completed"
    },
    "tags": []
   },
   "outputs": [
    {
     "data": {
      "application/javascript": [
       "parent.postMessage({\"jupyterEvent\": \"custom.exercise_interaction\", \"data\": {\"outcomeType\": 1, \"valueTowardsCompletion\": 0.3333333333333333, \"interactionType\": 1, \"questionType\": 2, \"questionId\": \"3_SaveCSV\", \"learnToolsVersion\": \"0.3.4\", \"failureMessage\": \"\", \"exceptionClass\": \"\", \"trace\": \"\"}}, \"*\")"
      ],
      "text/plain": [
       "<IPython.core.display.Javascript object>"
      ]
     },
     "metadata": {},
     "output_type": "display_data"
    },
    {
     "data": {
      "text/markdown": [
       "<span style=\"color:#33cc33\">Correct</span>"
      ],
      "text/plain": [
       "Correct"
      ]
     },
     "metadata": {},
     "output_type": "display_data"
    }
   ],
   "source": [
    "# TODO: Save the police killings dataset to CSV\n",
    "police_killings.to_csv(\"/kaggle/working/my_file.csv\")\n",
    "\n",
    "# Check your answer\n",
    "q3.check()"
   ]
  },
  {
   "cell_type": "code",
   "execution_count": 10,
   "id": "d7fe66da",
   "metadata": {
    "execution": {
     "iopub.execute_input": "2023-07-03T11:23:56.303639Z",
     "iopub.status.busy": "2023-07-03T11:23:56.302420Z",
     "iopub.status.idle": "2023-07-03T11:23:56.307815Z",
     "shell.execute_reply": "2023-07-03T11:23:56.306795Z"
    },
    "papermill": {
     "duration": 0.014115,
     "end_time": "2023-07-03T11:23:56.310104",
     "exception": false,
     "start_time": "2023-07-03T11:23:56.295989",
     "status": "completed"
    },
    "tags": []
   },
   "outputs": [],
   "source": [
    "# Lines below will give you a hint or solution code\n",
    "#q3.hint()\n",
    "#q3.solution()"
   ]
  },
  {
   "cell_type": "markdown",
   "id": "1c39e902",
   "metadata": {
    "papermill": {
     "duration": 0.005026,
     "end_time": "2023-07-03T11:23:56.320539",
     "exception": false,
     "start_time": "2023-07-03T11:23:56.315513",
     "status": "completed"
    },
    "tags": []
   },
   "source": [
    "# (Optional) More practice\n",
    "\n",
    "Check out [this dataset of files in different character encodings](https://www.kaggle.com/rtatman/character-encoding-examples). Can you read in all the files with their original encodings and them save them out as UTF-8 files?\n",
    "\n",
    "If you have a file that's in UTF-8 but has just a couple of weird-looking characters in it, you can try out the [ftfy module](https://ftfy.readthedocs.io/en/latest/#) and see if it helps. \n",
    "\n",
    "# Keep going\n",
    "\n",
    "In the final lesson, learn how to [**clean up inconsistent text entries**](https://www.kaggle.com/alexisbcook/inconsistent-data-entry) in your dataset."
   ]
  },
  {
   "cell_type": "markdown",
   "id": "e7fcfae6",
   "metadata": {
    "papermill": {
     "duration": 0.004928,
     "end_time": "2023-07-03T11:23:56.330669",
     "exception": false,
     "start_time": "2023-07-03T11:23:56.325741",
     "status": "completed"
    },
    "tags": []
   },
   "source": [
    "---\n",
    "\n",
    "\n",
    "\n",
    "\n",
    "*Have questions or comments? Visit the [course discussion forum](https://www.kaggle.com/learn/data-cleaning/discussion) to chat with other learners.*"
   ]
  }
 ],
 "metadata": {
  "kernelspec": {
   "display_name": "Python 3",
   "language": "python",
   "name": "python3"
  },
  "language_info": {
   "codemirror_mode": {
    "name": "ipython",
    "version": 3
   },
   "file_extension": ".py",
   "mimetype": "text/x-python",
   "name": "python",
   "nbconvert_exporter": "python",
   "pygments_lexer": "ipython3",
   "version": "3.10.10"
  },
  "papermill": {
   "default_parameters": {},
   "duration": 11.546206,
   "end_time": "2023-07-03T11:23:57.156828",
   "environment_variables": {},
   "exception": null,
   "input_path": "__notebook__.ipynb",
   "output_path": "__notebook__.ipynb",
   "parameters": {},
   "start_time": "2023-07-03T11:23:45.610622",
   "version": "2.4.0"
  }
 },
 "nbformat": 4,
 "nbformat_minor": 5
}
